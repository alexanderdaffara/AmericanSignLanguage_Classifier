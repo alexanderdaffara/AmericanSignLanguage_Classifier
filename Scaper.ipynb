{
 "cells": [
  {
   "cell_type": "code",
   "execution_count": 1,
   "metadata": {},
   "outputs": [],
   "source": [
    "import requests\n",
    "import pandas as pd\n",
    "import numpy as np\n",
    "import time\n",
    "from selenium import webdriver\n",
    "from selenium.webdriver.common.by import By\n",
    "from selenium.webdriver.common.keys import Keys\n",
    "from selenium.webdriver.support.wait import WebDriverWait\n",
    "from selenium.webdriver.support import expected_conditions as EC\n",
    "from webdriver_manager.chrome import ChromeDriverManager"
   ]
  },
  {
   "cell_type": "code",
   "execution_count": 22,
   "metadata": {},
   "outputs": [
    {
     "ename": "IndexError",
     "evalue": "list index out of range",
     "output_type": "error",
     "traceback": [
      "\u001b[0;31m---------------------------------------------------------------------------\u001b[0m",
      "\u001b[0;31mIndexError\u001b[0m                                Traceback (most recent call last)",
      "Cell \u001b[0;32mIn[22], line 7\u001b[0m\n\u001b[1;32m      5\u001b[0m \u001b[39m# Scroll to the bottom of the page\u001b[39;00m\n\u001b[1;32m      6\u001b[0m driver\u001b[39m.\u001b[39mexecute_script(\u001b[39m\"\u001b[39m\u001b[39mwindow.scrollTo(0, document.body.scrollHeight);\u001b[39m\u001b[39m\"\u001b[39m)\n\u001b[0;32m----> 7\u001b[0m WebDriverWait(driver,\u001b[39m5\u001b[39;49m)\u001b[39m.\u001b[39;49muntil(\n\u001b[1;32m      8\u001b[0m     EC\u001b[39m.\u001b[39;49mvisibility_of_all_elements_located((By\u001b[39m.\u001b[39;49mCLASS_NAME, \u001b[39m\"\u001b[39;49m\u001b[39msc-juEKsz\u001b[39;49m\u001b[39m\"\u001b[39;49m)))[\u001b[39m6\u001b[39;49m]\u001b[39m.\u001b[39mclick()\n\u001b[1;32m      9\u001b[0m \u001b[39m# WebDriverWait(driver,5).until(\u001b[39;00m\n\u001b[1;32m     10\u001b[0m \u001b[39m#     EC.element_to_be_clickable((By.CLASS_NAME, \"sc-juEKsz\"))).click()\u001b[39;00m\n\u001b[1;32m     11\u001b[0m time\u001b[39m.\u001b[39msleep(\u001b[39m3\u001b[39m)\n",
      "\u001b[0;31mIndexError\u001b[0m: list index out of range"
     ]
    }
   ],
   "source": [
    "driver = webdriver.Chrome(ChromeDriverManager().install())\n",
    "url = 'https://www.kaggle.com/competitions/asl-signs/data?select=train_landmark_files'\n",
    "driver.get(url)\n",
    "data = []\n",
    "# Scroll to the bottom of the page\n",
    "driver.execute_script(\"window.scrollTo(0, document.body.scrollHeight);\")\n",
    "WebDriverWait(driver,5).until(\n",
    "    EC.visibility_of_all_elements_located((By.CLASS_NAME, \"sc-juEKsz\")))[6].click()\n",
    "# WebDriverWait(driver,5).until(\n",
    "#     EC.element_to_be_clickable((By.CLASS_NAME, \"sc-juEKsz\"))).click()\n",
    "time.sleep(3)\n",
    "# Close the webdriver\n",
    "driver.quit()"
   ]
  },
  {
   "cell_type": "code",
   "execution_count": 15,
   "metadata": {},
   "outputs": [
    {
     "data": {
      "text/plain": [
       "<selenium.webdriver.remote.webelement.WebElement (session=\"0a226e881033ba4c08fd97181cc671fc\", element=\"39d4c75c-f970-4d16-a508-229e6df6b3cd\")>"
      ]
     },
     "execution_count": 15,
     "metadata": {},
     "output_type": "execute_result"
    }
   ],
   "source": [
    "participant_links[6]"
   ]
  },
  {
   "cell_type": "code",
   "execution_count": null,
   "metadata": {},
   "outputs": [],
   "source": []
  }
 ],
 "metadata": {
  "kernelspec": {
   "display_name": "learn-env",
   "language": "python",
   "name": "python3"
  },
  "language_info": {
   "codemirror_mode": {
    "name": "ipython",
    "version": 3
   },
   "file_extension": ".py",
   "mimetype": "text/x-python",
   "name": "python",
   "nbconvert_exporter": "python",
   "pygments_lexer": "ipython3",
   "version": "3.9.16"
  },
  "orig_nbformat": 4
 },
 "nbformat": 4,
 "nbformat_minor": 2
}
