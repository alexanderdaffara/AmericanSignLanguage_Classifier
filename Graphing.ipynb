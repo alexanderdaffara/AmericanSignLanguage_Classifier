{
 "cells": [
  {
   "cell_type": "code",
   "execution_count": 1,
   "metadata": {},
   "outputs": [],
   "source": [
    "## Imports"
   ]
  },
  {
   "cell_type": "code",
   "execution_count": 3,
   "metadata": {},
   "outputs": [],
   "source": [
    "import pandas as pd\n",
    "import numpy as np\n",
    "import matplotlib.pyplot as plt\n",
    "import seaborn as sns\n",
    "import json\n",
    "import sklearn\n",
    "from sklearn.pipeline import Pipeline\n",
    "from sklearn.model_selection import train_test_split, GridSearchCV\n",
    "from sklearn.linear_model import LogisticRegression\n",
    "from sklearn.tree import DecisionTreeClassifier, ExtraTreeClassifier\n",
    "from sklearn.neighbors import KNeighborsClassifier\n",
    "from sklearn.naive_bayes import GaussianNB\n",
    "from sklearn.ensemble import (RandomForestClassifier, ExtraTreesClassifier, GradientBoostingClassifier, HistGradientBoostingClassifier, \n",
    "                              AdaBoostClassifier, BaggingClassifier, StackingClassifier)\n",
    "import xgboost as xgb\n",
    "from xgboost import XGBClassifier\n",
    "\n",
    "from sklearn.metrics import accuracy_score, precision_score, recall_score, f1_score, log_loss, classification_report, roc_auc_score, ConfusionMatrixDisplay\n",
    "\n",
    "\n",
    "from sklearn.impute import SimpleImputer\n",
    "\n",
    "sklearn.set_config(display='diagram')\n",
    "%matplotlib inline"
   ]
  },
  {
   "cell_type": "markdown",
   "metadata": {},
   "source": [
    "# Load Data and Train-Test-Split"
   ]
  },
  {
   "cell_type": "code",
   "execution_count": 4,
   "metadata": {},
   "outputs": [
    {
     "name": "stdout",
     "output_type": "stream",
     "text": [
      "(1447, 2172) (483, 2172) (1447,) (483,)\n"
     ]
    },
    {
     "data": {
      "text/plain": [
       "((45390, 2172), (15130, 2172), (45390,), (15130,))"
      ]
     },
     "execution_count": 4,
     "metadata": {},
     "output_type": "execute_result"
    }
   ],
   "source": [
    "# Load Meta Data\n",
    "meta_data = pd.read_csv('data/train.csv')\n",
    "\n",
    "# Load Data\n",
    "signs = pd.read_csv('data/all_targets.csv',index_col=0)['0'].to_list()\n",
    "signs_5 = ['hungry','stay','drink','dad','sad']\n",
    "dataset_5_signs = pd.read_csv('data/dataset_hungry_stay_drink_dad_sad.csv', index_col=0)\n",
    "dataset = pd.concat((dataset_5_signs,\n",
    "                     pd.read_csv('data/dataset_round2_155.csv',index_col=0)), \n",
    "                    axis=0)\n",
    "# Load sign name to int mapping\n",
    "with open('data/sign_to_prediction_index_map.json') as f:\n",
    "    sign_map = json.load(f)\n",
    "\n",
    "\n",
    "# Train Test Split 5 signs\n",
    "X = dataset_5_signs.drop(columns='sign')\n",
    "y = dataset_5_signs['sign'].map({sign:i for i, sign in enumerate(signs_5)})\n",
    "X_train_5_signs, X_test_5_signs, y_train_5_signs, y_test_5_signs = train_test_split(X, y, test_size=.25, stratify=y, random_state=42)\n",
    "print(X_train_5_signs.shape, X_test_5_signs.shape, y_train_5_signs.shape, y_test_5_signs.shape)\n",
    "\n",
    "# Train Test Split 87 signs\n",
    "X = dataset.drop(columns='sign')\n",
    "y = dataset['sign'].map({sign:i for i, sign in enumerate(signs)})\n",
    "X_train, X_test, y_train, y_test = train_test_split(X, y, test_size=.25, stratify=y, random_state=42)\n",
    "X_train.shape, X_test.shape, y_train.shape, y_test.shape"
   ]
  },
  {
   "cell_type": "markdown",
   "metadata": {},
   "source": [
    "# Load Model"
   ]
  },
  {
   "cell_type": "code",
   "execution_count": null,
   "metadata": {},
   "outputs": [],
   "source": []
  }
 ],
 "metadata": {
  "kernelspec": {
   "display_name": "tensorflow",
   "language": "python",
   "name": "python3"
  },
  "language_info": {
   "codemirror_mode": {
    "name": "ipython",
    "version": 3
   },
   "file_extension": ".py",
   "mimetype": "text/x-python",
   "name": "python",
   "nbconvert_exporter": "python",
   "pygments_lexer": "ipython3",
   "version": "3.10.9"
  },
  "orig_nbformat": 4
 },
 "nbformat": 4,
 "nbformat_minor": 2
}
